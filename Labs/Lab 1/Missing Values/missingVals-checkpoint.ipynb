{
 "cells": [
  {
   "cell_type": "markdown",
   "metadata": {},
   "source": [
    "Removing Missing Values "
   ]
  },
  {
   "cell_type": "code",
   "execution_count": 34,
   "metadata": {},
   "outputs": [
    {
     "name": "stdout",
     "output_type": "stream",
     "text": [
      "Number of instances = 175200\n",
      "Number of attributes = 6\n"
     ]
    }
   ],
   "source": [
    "import pandas as pd\n",
    "\n",
    "data = pd.read_csv('C:\\\\Users\\\\Talal\\\\School\\\\CSC 177\\\\Labs\\\\Lab 1\\\\Missing Values\\\\LaqnData.csv')\n",
    "data.columns = ['Site','Species','ReadingDateTime','Value','Units','Provisional or Ratified']\n",
    "\n",
    "print('Number of instances = %d' % (data.shape[0]))\n",
    "print('Number of attributes = %d' % (data.shape[1]))\n",
    "data=data.drop(['Provisional or Ratified'],axis = 1)\n",
    "\n",
    "#dropping all rows that contain missing values\n",
    "data = data.dropna(axis='rows')\n",
    "\n",
    "\n",
    "data.head()\n",
    "\n",
    "#Writing modified data frame to csv file\n",
    "data.to_csv(r'C:\\\\Users\\\\Talal\\\\School\\\\CSC 177\\\\Labs\\\\Lab 1\\\\Missing Values\\\\LaqnDataModified.csv')\n",
    "#Resulting file has no missing value rows\n"
   ]
  },
  {
   "cell_type": "code",
   "execution_count": null,
   "metadata": {},
   "outputs": [],
   "source": []
  }
 ],
 "metadata": {
  "kernelspec": {
   "display_name": "Python 3",
   "language": "python",
   "name": "python3"
  },
  "language_info": {
   "codemirror_mode": {
    "name": "ipython",
    "version": 3
   },
   "file_extension": ".py",
   "mimetype": "text/x-python",
   "name": "python",
   "nbconvert_exporter": "python",
   "pygments_lexer": "ipython3",
   "version": "3.7.3"
  }
 },
 "nbformat": 4,
 "nbformat_minor": 2
}
